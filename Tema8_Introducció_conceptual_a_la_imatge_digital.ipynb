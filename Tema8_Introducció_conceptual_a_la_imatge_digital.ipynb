{
  "nbformat": 4,
  "nbformat_minor": 0,
  "metadata": {
    "colab": {
      "name": "Tema8 - Introducció conceptual a la imatge digital.ipynb",
      "provenance": [],
      "collapsed_sections": [],
      "toc_visible": true,
      "authorship_tag": "ABX9TyPna4PZprZydX86hE7vM5qt",
      "include_colab_link": true
    },
    "kernelspec": {
      "name": "python3",
      "display_name": "Python 3"
    },
    "widgets": {
      "application/vnd.jupyter.widget-state+json": {
        "fad6897948da427ebde989de17a92679": {
          "model_module": "@jupyter-widgets/controls",
          "model_name": "ButtonModel",
          "state": {
            "_view_name": "ButtonView",
            "style": "IPY_MODEL_163a7ed528e84644b004b933111981d3",
            "_dom_classes": [],
            "description": "Click Me!",
            "_model_name": "ButtonModel",
            "button_style": "",
            "_view_module": "@jupyter-widgets/controls",
            "_model_module_version": "1.5.0",
            "tooltip": "",
            "_view_count": null,
            "disabled": false,
            "_view_module_version": "1.5.0",
            "layout": "IPY_MODEL_c8e3524b20844b4998ae8d3e192f386c",
            "_model_module": "@jupyter-widgets/controls",
            "icon": ""
          }
        },
        "163a7ed528e84644b004b933111981d3": {
          "model_module": "@jupyter-widgets/controls",
          "model_name": "ButtonStyleModel",
          "state": {
            "_view_name": "StyleView",
            "_model_name": "ButtonStyleModel",
            "_view_module": "@jupyter-widgets/base",
            "_model_module_version": "1.5.0",
            "_view_count": null,
            "button_color": null,
            "font_weight": "",
            "_view_module_version": "1.2.0",
            "_model_module": "@jupyter-widgets/controls"
          }
        },
        "c8e3524b20844b4998ae8d3e192f386c": {
          "model_module": "@jupyter-widgets/base",
          "model_name": "LayoutModel",
          "state": {
            "_view_name": "LayoutView",
            "grid_template_rows": null,
            "right": null,
            "justify_content": null,
            "_view_module": "@jupyter-widgets/base",
            "overflow": null,
            "_model_module_version": "1.2.0",
            "_view_count": null,
            "flex_flow": null,
            "width": null,
            "min_width": null,
            "border": null,
            "align_items": null,
            "bottom": null,
            "_model_module": "@jupyter-widgets/base",
            "top": null,
            "grid_column": null,
            "overflow_y": null,
            "overflow_x": null,
            "grid_auto_flow": null,
            "grid_area": null,
            "grid_template_columns": null,
            "flex": null,
            "_model_name": "LayoutModel",
            "justify_items": null,
            "grid_row": null,
            "max_height": null,
            "align_content": null,
            "visibility": null,
            "align_self": null,
            "height": null,
            "min_height": null,
            "padding": null,
            "grid_auto_rows": null,
            "grid_gap": null,
            "max_width": null,
            "order": null,
            "_view_module_version": "1.2.0",
            "grid_template_areas": null,
            "object_position": null,
            "object_fit": null,
            "grid_auto_columns": null,
            "margin": null,
            "display": null,
            "left": null
          }
        },
        "2fbdf3d1f2aa4b84ad2477786ede44fa": {
          "model_module": "@jupyter-widgets/output",
          "model_name": "OutputModel",
          "state": {
            "_view_name": "OutputView",
            "msg_id": "",
            "_dom_classes": [],
            "_model_name": "OutputModel",
            "outputs": [
              {
                "output_type": "stream",
                "metadata": {
                  "tags": []
                },
                "text": "Button clicked.\nhello world ccdaasd\n\nccdaasd\n",
                "stream": "stdout"
              },
              {
                "output_type": "stream",
                "metadata": {
                  "tags": []
                },
                "text": "Button clicked.\nhello world ccdaasd\n\nccdaasd\n",
                "stream": "stdout"
              },
              {
                "output_type": "stream",
                "metadata": {
                  "tags": []
                },
                "text": "Button clicked.\nhello world ccddddddddrrrrrrrrdaasd\n\nccddddddddrrrrrrrrdaasd\n",
                "stream": "stdout"
              },
              {
                "output_type": "stream",
                "metadata": {
                  "tags": []
                },
                "text": "Button clicked.\nhello world ccddvvvvx sfdgfdddddddrrrrrrrrdaasd\n\nccddvvvvx sfdgfdddddddrrrrrrrrdaasd\n",
                "stream": "stdout"
              },
              {
                "output_type": "stream",
                "metadata": {
                  "tags": []
                },
                "text": "Button clicked.\nhello world ggg\n\nggg\n",
                "stream": "stdout"
              }
            ],
            "_view_module": "@jupyter-widgets/output",
            "_model_module_version": "1.0.0",
            "_view_count": null,
            "_view_module_version": "1.0.0",
            "layout": "IPY_MODEL_8cc4049ae80b4614a788af1d2488c64c",
            "_model_module": "@jupyter-widgets/output"
          }
        },
        "8cc4049ae80b4614a788af1d2488c64c": {
          "model_module": "@jupyter-widgets/base",
          "model_name": "LayoutModel",
          "state": {
            "_view_name": "LayoutView",
            "grid_template_rows": null,
            "right": null,
            "justify_content": null,
            "_view_module": "@jupyter-widgets/base",
            "overflow": null,
            "_model_module_version": "1.2.0",
            "_view_count": null,
            "flex_flow": null,
            "width": null,
            "min_width": null,
            "border": null,
            "align_items": null,
            "bottom": null,
            "_model_module": "@jupyter-widgets/base",
            "top": null,
            "grid_column": null,
            "overflow_y": null,
            "overflow_x": null,
            "grid_auto_flow": null,
            "grid_area": null,
            "grid_template_columns": null,
            "flex": null,
            "_model_name": "LayoutModel",
            "justify_items": null,
            "grid_row": null,
            "max_height": null,
            "align_content": null,
            "visibility": null,
            "align_self": null,
            "height": null,
            "min_height": null,
            "padding": null,
            "grid_auto_rows": null,
            "grid_gap": null,
            "max_width": null,
            "order": null,
            "_view_module_version": "1.2.0",
            "grid_template_areas": null,
            "object_position": null,
            "object_fit": null,
            "grid_auto_columns": null,
            "margin": null,
            "display": null,
            "left": null
          }
        }
      }
    }
  },
  "cells": [
    {
      "cell_type": "markdown",
      "metadata": {
        "id": "view-in-github",
        "colab_type": "text"
      },
      "source": [
        "<a href=\"https://colab.research.google.com/github/jmcarbo/medicalimages/blob/main/Tema8_Introducci%C3%B3_conceptual_a_la_imatge_digital.ipynb\" target=\"_parent\"><img src=\"https://colab.research.google.com/assets/colab-badge.svg\" alt=\"Open In Colab\"/></a>"
      ]
    },
    {
      "cell_type": "markdown",
      "metadata": {
        "id": "ic3tj5nQqzg2"
      },
      "source": [
        "# Imatge digital\n"
      ]
    },
    {
      "cell_type": "code",
      "metadata": {
        "id": "OEaZcduVRroQ"
      },
      "source": [
        "#@title Default title text\n",
        "nia = 'ggg'  #@param {type: \"string\"}\n"
      ],
      "execution_count": null,
      "outputs": []
    },
    {
      "cell_type": "code",
      "metadata": {
        "colab": {
          "base_uri": "https://localhost:8080/",
          "height": 389,
          "referenced_widgets": [
            "fad6897948da427ebde989de17a92679",
            "163a7ed528e84644b004b933111981d3",
            "c8e3524b20844b4998ae8d3e192f386c",
            "2fbdf3d1f2aa4b84ad2477786ede44fa",
            "8cc4049ae80b4614a788af1d2488c64c"
          ]
        },
        "id": "qwxSLllTORxC",
        "outputId": "f5864bb0-c732-4f21-9b3d-f8df998d8bc0"
      },
      "source": [
        "import requests                                 # To use request package in current program \n",
        "\n",
        "import ipywidgets as widgets\n",
        "from IPython.display import display\n",
        "button = widgets.Button(description=\"Click Me!\")\n",
        "output = widgets.Output()\n",
        "\n",
        "def on_button_clicked(b):\n",
        "  # Display the message within the output widget.\n",
        "  response = requests.get(\"https://webhook.joanmarc.cat/hooks/redeploy-webhook?name=\"+nia)     # To execute get request \n",
        "  with output:\n",
        "    print(\"Button clicked.\")\n",
        "    print(response.text)\n",
        "    print(nia)\n",
        "\n",
        "\n",
        "button.on_click(on_button_clicked)\n",
        "display(button, output)"
      ],
      "execution_count": null,
      "outputs": [
        {
          "output_type": "display_data",
          "data": {
            "application/vnd.jupyter.widget-view+json": {
              "model_id": "fad6897948da427ebde989de17a92679",
              "version_minor": 0,
              "version_major": 2
            },
            "text/plain": [
              "Button(description='Click Me!', style=ButtonStyle())"
            ]
          },
          "metadata": {
            "tags": []
          }
        },
        {
          "output_type": "display_data",
          "data": {
            "application/vnd.jupyter.widget-view+json": {
              "model_id": "2fbdf3d1f2aa4b84ad2477786ede44fa",
              "version_minor": 0,
              "version_major": 2
            },
            "text/plain": [
              "Output()"
            ]
          },
          "metadata": {
            "tags": []
          }
        }
      ]
    },
    {
      "cell_type": "markdown",
      "metadata": {
        "id": "oZUwxM3zqkqv"
      },
      "source": [
        "##  Vectorial vs Bitmap\n",
        "\n",
        "Ens trobem amb dos grans tipus d’imatges digitals:\n",
        "\n",
        "* Vectorials: la imatge es genera a partir d’instruccions que indiquen què s’ha de dibuixar (línia, rectangle, cercle, etc)\n",
        "* Mapa de bits (bitmap): la imatge es genera píxel a píxel indicant quin color i quina intensitat ha de tenir cada píxel.\n",
        "* Cal tenir en compte la diferència que hi ha entre punt i píxel."
      ]
    },
    {
      "cell_type": "markdown",
      "metadata": {
        "id": "iVj5zvBSrGxx"
      },
      "source": [
        "## Digitalització\n",
        "\n",
        "* Transductor: converteix senyal no elèctrica en voltatge. Fotodiode.\n",
        "* Digitalització: mostreig senyal analògica."
      ]
    },
    {
      "cell_type": "markdown",
      "metadata": {
        "id": "HRB89CK6rQjU"
      },
      "source": [
        "## Càmera fotogràfica\n",
        "\n",
        "Objectiu\n",
        "• Diafragma:1,1,2 1,4 1,8 2 4 8 11 16 22 32 64\n",
        "• Obturador: 1/1000, 1/500, 1/250, 1/125 ... 1s 2s 3s\n",
        "• Sensor: charge-coupled device (CCD), Complementary metal–oxide–semiconductor (CMOS) Megapixels, grandària, sensibilitat (ISO/ASA)"
      ]
    },
    {
      "cell_type": "markdown",
      "metadata": {
        "id": "hQlODsfVrllk"
      },
      "source": [
        "## Objectius\n",
        "\n",
        "Distància focal: profunditat de camp, perspectiva.\n",
        "• Tipus: gran angular, normal (diagonal del sensor), teleobjectiu.\n",
        "Zoom"
      ]
    },
    {
      "cell_type": "markdown",
      "metadata": {
        "id": "POxUW6mYro51"
      },
      "source": [
        "## Macro i microfotografia\n",
        "\n",
        "* Macrofotografia: escales fins a 1:1 (ex: 1:4, 1:10)\n",
        "* Microfotografia: escales superiors a 1:1 (ex: 3:1, 5:1)"
      ]
    },
    {
      "cell_type": "markdown",
      "metadata": {
        "id": "cYZifXC8r5Q7"
      },
      "source": [
        "## PACS, formats d'imatges i metadata\n",
        "\n",
        "PACS (Picture Archiving and Communications System)\n",
        "• Formats (Looseless o no):\n",
        "• DICOM (Digital Imaging and Communications in\n",
        "Medicine)\n",
        "• JPEG, TIFF, RAW.\n",
        "Metadata"
      ]
    },
    {
      "cell_type": "markdown",
      "metadata": {
        "id": "5APIkLe3sER1"
      },
      "source": [
        "## Tipus d'imatges segons la font d'energia\n",
        "\n",
        "* Llum, electrons: microscopia, microscopia electrònica\n",
        "• RX: radiografies,TAC.\n",
        "• Camps electromagnètics: resonància magnètica nuclear • \n",
        "* Isòtops radioactius: medicina nuclear.\n",
        "• Ultrasons i fotoacústica: ecografies.\n",
        "• Calor: termografies."
      ]
    },
    {
      "cell_type": "markdown",
      "metadata": {
        "id": "0fx_62F2sZSu"
      },
      "source": [
        "## Workflow digital"
      ]
    },
    {
      "cell_type": "markdown",
      "metadata": {
        "id": "Nt_Kdg6ysifF"
      },
      "source": [
        "## Gestió avançada d'imatges\n",
        "\n",
        "### Processat\n",
        "\n",
        "### Anàlisi\n",
        "\n",
        "### Interpretació\n",
        "\n"
      ]
    },
    {
      "cell_type": "code",
      "metadata": {
        "id": "8HmB2gGutH8o"
      },
      "source": [
        "#@title Example form fields {display-mode: \"form\"}\n",
        "#@markdown Forms support many types of fields.\n",
        "\n",
        "no_type_checking = '    asdfasdfsad'  #@param {type:\"raw\"}\n",
        "string_type = 'example'  #@param {type: \"string\"}\n",
        "slider_value = 142  #@param {type: \"slider\", min: 100, max: 200}\n",
        "number = 105  #@param {type: \"number\"}\n",
        "date = '2010-11-05'  #@param {type: \"date\"}\n",
        "pick_me = \"wednesday\"  #@param ['monday', 'tuesday', 'wednesday', 'thursday']\n",
        "select_or_input = \"apples\" #@param [\"apples\", \"bananas\", \"oranges\"] {allow-input: true}\n",
        "#@markdown ---\n"
      ],
      "execution_count": null,
      "outputs": []
    },
    {
      "cell_type": "markdown",
      "metadata": {
        "id": "O5ZjT3YttHmu"
      },
      "source": [
        ""
      ]
    }
  ]
}