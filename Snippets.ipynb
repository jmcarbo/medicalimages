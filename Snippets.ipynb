{
  "nbformat": 4,
  "nbformat_minor": 0,
  "metadata": {
    "colab": {
      "name": "Snippets.ipynb",
      "provenance": [],
      "collapsed_sections": [],
      "authorship_tag": "ABX9TyNvF50HPj99UIhz8UIYoDVs",
      "include_colab_link": true
    },
    "kernelspec": {
      "name": "python3",
      "display_name": "Python 3"
    }
  },
  "cells": [
    {
      "cell_type": "markdown",
      "metadata": {
        "id": "view-in-github",
        "colab_type": "text"
      },
      "source": [
        "<a href=\"https://colab.research.google.com/github/jmcarbo/medicalimages/blob/main/Snippets.ipynb\" target=\"_parent\"><img src=\"https://colab.research.google.com/assets/colab-badge.svg\" alt=\"Open In Colab\"/></a>"
      ]
    },
    {
      "cell_type": "code",
      "metadata": {
        "id": "ulcyVQT32UnN"
      },
      "source": [
        "#@title Default title text\n",
        "nia = 'ggg'  #@param {type: \"string\"}\n"
      ],
      "execution_count": null,
      "outputs": []
    },
    {
      "cell_type": "code",
      "metadata": {
        "id": "r_2mXGtt2akn"
      },
      "source": [
        "import requests                                 # To use request package in current program \n",
        "\n",
        "import ipywidgets as widgets\n",
        "from IPython.display import display\n",
        "button = widgets.Button(description=\"Click Me!\")\n",
        "output = widgets.Output()\n",
        "\n",
        "def on_button_clicked(b):\n",
        "  # Display the message within the output widget.\n",
        "  response = requests.get(\"https://webhook.joanmarc.cat/hooks/redeploy-webhook?name=\"+nia)     # To execute get request \n",
        "  with output:\n",
        "    print(\"Button clicked.\")\n",
        "    print(response.text)\n",
        "    print(nia)\n",
        "\n",
        "\n",
        "button.on_click(on_button_clicked)\n",
        "display(button, output)"
      ],
      "execution_count": null,
      "outputs": []
    },
    {
      "cell_type": "code",
      "metadata": {
        "id": "cYaTs_-d2vIm"
      },
      "source": [
        "#@title Example form fields {display-mode: \"form\"}\n",
        "#@markdown Forms support many types of fields.\n",
        "\n",
        "no_type_checking = '    asdfasdfsad'  #@param {type:\"raw\"}\n",
        "string_type = 'example'  #@param {type: \"string\"}\n",
        "slider_value = 142  #@param {type: \"slider\", min: 100, max: 200}\n",
        "number = 105  #@param {type: \"number\"}\n",
        "date = '2010-11-05'  #@param {type: \"date\"}\n",
        "pick_me = \"wednesday\"  #@param ['monday', 'tuesday', 'wednesday', 'thursday']\n",
        "select_or_input = \"apples\" #@param [\"apples\", \"bananas\", \"oranges\"] {allow-input: true}\n",
        "#@markdown ---\n"
      ],
      "execution_count": null,
      "outputs": []
    }
  ]
}