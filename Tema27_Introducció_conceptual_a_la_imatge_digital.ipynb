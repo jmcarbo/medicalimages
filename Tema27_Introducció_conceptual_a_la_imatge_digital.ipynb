{
  "nbformat": 4,
  "nbformat_minor": 0,
  "metadata": {
    "colab": {
      "name": "Tema8 - Introducció conceptual a la imatge digital.ipynb",
      "provenance": [],
      "collapsed_sections": [],
      "authorship_tag": "ABX9TyNlRDajw9HrAD4yL0wJJRfM",
      "include_colab_link": true
    },
    "kernelspec": {
      "name": "python3",
      "display_name": "Python 3"
    }
  },
  "cells": [
    {
      "cell_type": "markdown",
      "metadata": {
        "id": "view-in-github",
        "colab_type": "text"
      },
      "source": [
        "<a href=\"https://colab.research.google.com/github/jmcarbo/medicalimages/blob/main/Tema27_Introducci%C3%B3_conceptual_a_la_imatge_digital.ipynb\" target=\"_parent\"><img src=\"https://colab.research.google.com/assets/colab-badge.svg\" alt=\"Open In Colab\"/></a>"
      ]
    },
    {
      "cell_type": "markdown",
      "metadata": {
        "id": "ic3tj5nQqzg2"
      },
      "source": [
        "# Tema 27: Introducció conceptual a la imatge digital en medecina\n"
      ]
    },
    {
      "cell_type": "markdown",
      "metadata": {
        "id": "lnHugjnp3NQg"
      },
      "source": [
        "En aquest tema comentarem alguns aspectes bàsics de les imatges biomèdiques. Primer introduirem alguns conceptes teòrics i després descriurem els fluixos de treball amb imatges digitals en medicina."
      ]
    },
    {
      "cell_type": "markdown",
      "metadata": {
        "id": "oZUwxM3zqkqv"
      },
      "source": [
        "##  Vectorial vs Bitmap\n",
        "\n",
        "Existeixen dos grans tipus d’imatges digitals:\n",
        "\n",
        "* **Mapa de bits (bitmap)**: la imatge es genera píxel a píxel indicant quin color i quina intensitat ha de tenir cada píxel. En una pantalla d'ordinador un píxel equival a un punt (diode led) de la pantalla, mentre que a les impressores, cada píxel de la imatge es representa amb diverses taques de tinta (punts). Les dimensions de la imatge (resolució) depenen del número de píxels horitzontals i del número de píxels verticals.\n",
        "\n",
        "* **Vectorials**: la imatge es genera a partir d’instruccions que indiquen què s’ha de dibuixar (línia, rectangle, cercle, etc). S'empreen, sobre tot, per crear models 3D d'estructures anatòmiques, sovint generades automàticament a partir d'imatges de mapes de bits.\n",
        "\n"
      ]
    },
    {
      "cell_type": "markdown",
      "metadata": {
        "id": "iVj5zvBSrGxx"
      },
      "source": [
        "## Digitalització\n",
        "\n",
        "* **Transductor**: converteix senyal no elèctrica en voltatge. Fotodiode.\n",
        "* **Digitalització**: mostreig senyal analògica."
      ]
    },
    {
      "cell_type": "markdown",
      "metadata": {
        "id": "HRB89CK6rQjU"
      },
      "source": [
        "## Càmera fotogràfica\n",
        "\n",
        "* **Objectiu**: distància focal (gran angular, normal, tele, zoom). Determina la perspectiva i la qüantitat d'elements que queden enfocats (profunditat de camp). En medicina cal fer servir objectius de focal normal (la central dels objectius zoom).\n",
        "* **Diafragma**:1,1,2 1,4 1,8 2 4 8 11 16 22 32 64. Determina la fracció de llum que arriba al sensor. Com més alt és el número més elements queden enfocats.\n",
        "* **Obturador**: 1/1000, 1/500, 1/250, 1/125 ... 1s 2s 3s. Com més segons més temps està arribant llum al sensor. En medicina cal fer servir velocitats superiors a 1/125 per evitar objectes borrosos (moguts).\n",
        "* **Sensor**: charge-coupled device (CCD), Complementary metal–oxide–semiconductor (CMOS) Megapixels, grandària, sensibilitat (ISO/ASA)."
      ]
    },
    {
      "cell_type": "markdown",
      "metadata": {
        "id": "POxUW6mYro51"
      },
      "source": [
        "## Macro i microfotografia\n",
        "\n",
        "* **Fotografia convencional**: escales inferiors a 1:10.\n",
        "* **Macrofotografia**: escales fins a 1:1 (ex: 1:4, 1:10)\n",
        "* **Microfotografia**: escales superiors a 1:1 (ex: 3:1, 5:1)"
      ]
    },
    {
      "cell_type": "markdown",
      "metadata": {
        "id": "cYZifXC8r5Q7"
      },
      "source": [
        "## PACS, formats d'imatges i metadata\n",
        "\n",
        "* **PACS** (Picture Archiving and Communications System)\n",
        "* **Formats** (Looseless o no):\n",
        "  * DICOM (Digital Imaging and Communications in\n",
        "Medicine)\n",
        "  * JPEG, TIFF, RAW.\n",
        "Metadata"
      ]
    },
    {
      "cell_type": "markdown",
      "metadata": {
        "id": "5APIkLe3sER1"
      },
      "source": [
        "## Tipus d'imatges segons la font d'energia\n",
        "\n",
        "* **Llum, electrons**: microscopia, microscopia electrònica\n",
        "* **RX**: radiografies,TAC.\n",
        "* **Camps electromagnètics**: resonància magnètica nuclear\n",
        "* **Isòtops radioactius**: medicina nuclear.\n",
        "* **Ultrasons i fotoacústica**: ecografies.\n",
        "* **Calor**: termografies."
      ]
    },
    {
      "cell_type": "markdown",
      "metadata": {
        "id": "0fx_62F2sZSu"
      },
      "source": [
        "## Workflow digital (Pràctica 5)\n",
        "\n",
        "* Captura\n",
        "* Emmagatzemament\n",
        "* Recuperació\n",
        "* Processat"
      ]
    },
    {
      "cell_type": "markdown",
      "metadata": {
        "id": "Nt_Kdg6ysifF"
      },
      "source": [
        "## Gestió avançada d'imatges (Pràctica 6)\n",
        "\n",
        "* **Processat**: convertir una imatge en una altra imatge amb característiques diferents. Per exemple, donar color a imatges monocromes com les ecografies per facilitar la lectura dels fluixos venosos i arterials.\n",
        "\n",
        "* **Anàlisi**: obtenir valors numèrics a partir d'imatges. Per exemple comptar cèl·lules, mesurar angles o superfícies.\n",
        "\n",
        "* **Interpretació**: establir diagnòstics a partir d'imatges.\n",
        "\n"
      ]
    }
  ]
}