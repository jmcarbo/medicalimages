{
  "nbformat": 4,
  "nbformat_minor": 0,
  "metadata": {
    "colab": {
      "name": "Pràctica 5 - Imatge biomèdica.ipynb",
      "provenance": [],
      "authorship_tag": "ABX9TyPVcFDNGJPffsasMbvwN21W",
      "include_colab_link": true
    },
    "kernelspec": {
      "name": "python3",
      "display_name": "Python 3"
    }
  },
  "cells": [
    {
      "cell_type": "markdown",
      "metadata": {
        "id": "view-in-github",
        "colab_type": "text"
      },
      "source": [
        "<a href=\"https://colab.research.google.com/github/jmcarbo/medicalimages/blob/main/Pr%C3%A0ctica_5_Imatge_biom%C3%A8dica.ipynb\" target=\"_parent\"><img src=\"https://colab.research.google.com/assets/colab-badge.svg\" alt=\"Open In Colab\"/></a>"
      ]
    },
    {
      "cell_type": "code",
      "metadata": {
        "id": "qoiJv4gTOK7B"
      },
      "source": [
        "import os\n",
        "import shutil\n",
        "\n",
        "if not os.path.isfile(\"bbid.py\"):\n",
        "  os.system(\"wget https://raw.githubusercontent.com/ostrolucky/Bulk-Bing-Image-downloader/master/bbid.py\")\n",
        "  os.system(\"chmod +x bbid.py\")\n",
        "shutil.rmtree('images')\n",
        "os.mkdir(\"images\")\n",
        "image_classes = [\"femur\", \"pulmonary carcinoma\", \"enphysema radiography\", \"melanoma\", \"erithema nodosum\"]\n",
        "for i in image_classes:\n",
        "  os.mkdir( \"images/\" + i)"
      ],
      "execution_count": 24,
      "outputs": []
    },
    {
      "cell_type": "code",
      "metadata": {
        "id": "Xrb_d8_eKee7"
      },
      "source": [
        "for i in image_classes:\n",
        "  os.system(f'./bbid.py -s \"{i} dicom\" -o \"images/{i}\" --limit 10')"
      ],
      "execution_count": 25,
      "outputs": []
    },
    {
      "cell_type": "code",
      "metadata": {
        "id": "cc2aZ0P1MUft"
      },
      "source": [
        ""
      ],
      "execution_count": null,
      "outputs": []
    }
  ]
}